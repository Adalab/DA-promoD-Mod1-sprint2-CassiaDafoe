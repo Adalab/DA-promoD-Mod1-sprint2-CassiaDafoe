{
 "cells": [
  {
   "attachments": {},
   "cell_type": "markdown",
   "metadata": {},
   "source": [
    "# Evaluacion 2: Python\n",
    "\n",
    "## Cassia Dafoe"
   ]
  },
  {
   "cell_type": "code",
   "execution_count": null,
   "metadata": {},
   "outputs": [],
   "source": [
    "# importamos la libreria os para poder abrir y leer ficheros\n",
    "\n",
    "import os"
   ]
  },
  {
   "cell_type": "code",
   "execution_count": null,
   "metadata": {},
   "outputs": [],
   "source": [
    "# importamos la libreria de regex para poder usar patrones de regex\n",
    "\n",
    "import re"
   ]
  },
  {
   "cell_type": "code",
   "execution_count": null,
   "metadata": {},
   "outputs": [],
   "source": [
    "# creamos la clase para estudiar los textos\n",
    "\n",
    "class EstudioPalabras:\n",
    "\n",
    "    \"\"\"Una clase para estudiar textos.\n",
    "    \n",
    "    ...\n",
    "    \n",
    "    Atributos\n",
    "    ---------\n",
    "    ruta : str\n",
    "        ruta relativa del fichero que contiene el texto\n",
    "        \n",
    "    nombre_fichero : str\n",
    "        nombre del fichero que contiene el texto, incluyendo la extension\n",
    "        \n",
    "    Metodos\n",
    "    -------\n",
    "    abrir_fichero\n",
    "        abre el fichero y guarda el contenido en un variable. \n",
    "    \n",
    "    leer_palabras(num_palabras)\n",
    "        devuelve el numero de palabras especificado del texto\n",
    "        \n",
    "    leer_lineas\n",
    "        pregunta al usuario el numero de lineas que quiere leer y se las devuelve\n",
    "        \n",
    "    Quijote_sin_intro\n",
    "        devuelve el contenido del texto del libro de Don Quijote sin la introduccion\n",
    "    \n",
    "    contar_palabra\n",
    "        cuenta la palabra especificada y devuelve el numero de veces aparece en el texto\n",
    "    \n",
    "    \"\"\"\n",
    "    \n",
    "    \n",
    "    # definimos los atributos de la clase\n",
    "    def __init__(self, ruta, nombre_fichero):\n",
    "        self.ruta = ruta\n",
    "        self.nombre_fichero = nombre_fichero\n",
    "    \n",
    "        \"\"\"\n",
    "        Construye los atributos necesarios para el objeto texto.\n",
    "        \n",
    "        Parametros\n",
    "        ----------\n",
    "            ruta : str\n",
    "                ruta relativa del fichero que contiene el texto\n",
    "                \n",
    "            nombre_fichero : str\n",
    "                nombre del fichero que contiene el texto, incluyendo la extension\n",
    "        \"\"\"\n",
    "    \n",
    "    # metodo 1: abrir fichero como string    \n",
    "    def abrir_fichero(self):\n",
    "        \n",
    "        \"\"\"\n",
    "        Abre un fichero y guarda el contenido en un variable global.\n",
    "        \n",
    "        Returns\n",
    "        -------\n",
    "        contenido_fichero\n",
    "        \"\"\"\n",
    "        \n",
    "        # comprobamos si estamos en la carpeta donde esta el fichero, y si no, nos dirigimos alli\n",
    "        if self.nombre_fichero not in os.listdir():\n",
    "            os.chdir(self.ruta)\n",
    "        \n",
    "        # una vez que hayamos comprobado que estamos en la carpeta con el fichero, lo abrimos y guardamos el contenido \n",
    "        with open(self.nombre_fichero, mode= \"rt\", encoding='latin-1') as f:\n",
    "            global contenido_fichero\n",
    "            contenido_fichero = f.read()\n",
    "            print(\"El contenido del fichero se ha guardado en la variable contenido_fichero. Para leer el contenido, imprime o ejecute la variable.\")\n",
    "            return contenido_fichero\n",
    "    \n",
    "    # metodo 2: leer x palabras del texto\n",
    "    def leer_palabras(self, num_palabras):\n",
    "\n",
    "        \"\"\"\n",
    "        Abre un fichero y lee el numero de palabras especificado en el argumento.\n",
    "        \n",
    "        Returns\n",
    "        -------\n",
    "        un string con las palabras del texto segun la cantidad especificada\n",
    "        \"\"\"\n",
    "                \n",
    "        # abrimos el fichero para guardar el contenido en un variable\n",
    "        with open(self.nombre_fichero, mode= \"rt\", encoding='latin-1') as f:\n",
    "            contenido = f.read()\n",
    "        \n",
    "        # usando regex podemos buscar palabras en el contenido\n",
    "        patron_palabra = \"\\S+\"\n",
    "        lista_palabras = re.findall(patron_palabra, contenido)      \n",
    "        \n",
    "        # usando indices podemos imprimir hasta\n",
    "        return \" \".join(lista_palabras[:num_palabras])\n",
    "    \n",
    "    # metodo 3: leer x lineas del texto\n",
    "    def leer_lineas(self):\n",
    "\n",
    "        \"\"\"\n",
    "        Pregunta al usuario cuantas lineas quiere leer del texto (un numero o todas) y se los devuelve como string.\n",
    "        \n",
    "        Returns\n",
    "        -------\n",
    "        un string con las lineas del texto segun la cantidad especificada por en input\n",
    "        \"\"\"\n",
    "        \n",
    "        # pedimos al usuario el numero de lineas deseadas\n",
    "        num_lineas = input(\"Escribe el número de lineas que quiera leer del texto, o para leer todas escribe 'todas'\")\n",
    "\n",
    "        # comprobamos si el usuario quiere leer todas las lineas\n",
    "        if 'todas' in num_lineas.lower():\n",
    "            num_lineas = None\n",
    "        else:\n",
    "            # si no quieren leer todas las lineas, limpiamos el string e intentamos convertir su input un integer\n",
    "            while True:\n",
    "                try:\n",
    "                    num_lineas = int(num_lineas.strip())\n",
    "                    break\n",
    "                # mientras sale error le pedimos al usuario que lo intente de nuevo\n",
    "                except:\n",
    "                    num_lineas = input(\"Por favor inténtalo de nuevo: escribe un número entero usando solo dígito(s) e.g. 25\")\n",
    "        \n",
    "        # comprobamos si estamos en la carpeta donde esta el fichero, y si no, nos dirigimos alli\n",
    "        if self.nombre_fichero not in os.listdir():\n",
    "            os.chdir(self.ruta)\n",
    "            \n",
    "        # una vez que tengamos el numero de lineas deseadas en un formato legible, \n",
    "        # abrimos el fichero para usar el metodo readlines() para devolverlas\n",
    "        with open(self.nombre_fichero, mode= \"rt\", encoding='latin-1') as f:\n",
    "                lista_lineas = f.readlines()\n",
    "                return \" \".join(lista_lineas[:num_lineas])\n",
    "        \n",
    "    # metodo 4: devolver el contenido sin introduccion\n",
    "    def Quijote_sin_intro(self):\n",
    "\n",
    "        \"\"\"\n",
    "        Abre el fichero y devuelve las lineas 1780 a 74.276, que corresponde al texto del libro de Don Quijote sin la introduccion.\n",
    "        \n",
    "        Returns\n",
    "        -------\n",
    "        un string con las lineas 1780 a 74.276 del texto\n",
    "        \"\"\"\n",
    "        \n",
    "        # abrimos el fichero y guardamos el contenido en una lista de lineas con el metodo readlines()\n",
    "        with open(self.nombre_fichero, mode= \"rt\", encoding='latin-1') as f:\n",
    "            lista_lineas_sin_intro = f.readlines()\n",
    "            \n",
    "            # usamos los indices para devolver solo las lineas del libro Don Quijote\n",
    "            return \" \".join(lista_lineas_sin_intro[1780:74276])\n",
    "    \n",
    "    # metodo 5: contar palabra x\n",
    "    def contar_palabra(self, palabra):\n",
    "        \"\"\"\n",
    "        Cuenta el numero de veces aparece la palabra especificada en el texto.\n",
    "        \n",
    "        Returns\n",
    "        -------\n",
    "        imprime una frase que dice cuantas veces aparece la palabra en el texto\n",
    "        \"\"\"\n",
    "        # abrimos el fichero y guardamos el contenido\n",
    "        with open(self.nombre_fichero, mode= \"rt\", encoding='latin-1') as f:\n",
    "            contenido = f.read()\n",
    "        \n",
    "        # convertimos el contenido del texto y la palabra que queremos contar a minisculas \n",
    "        # para que sean compatibles y poder contar todas las incidencias\n",
    "        contenido = contenido.lower()\n",
    "        palabra_lower = palabra.lower()\n",
    "            \n",
    "        # devolvemos el number de incidencias\n",
    "        return f\"La palabra {palabra} se encuentra {contenido.count(palabra_lower)} veces en el texto {self.nombre_fichero}.\"\n",
    "    "
   ]
  },
  {
   "cell_type": "code",
   "execution_count": null,
   "metadata": {},
   "outputs": [],
   "source": [
    "texto_quijote = EstudioPalabras(\"data/\", \"quijote.txt\")"
   ]
  },
  {
   "cell_type": "code",
   "execution_count": null,
   "metadata": {},
   "outputs": [],
   "source": [
    "texto_quijote.abrir_fichero()\n"
   ]
  },
  {
   "cell_type": "code",
   "execution_count": null,
   "metadata": {},
   "outputs": [],
   "source": [
    "texto_quijote.leer_palabras(20)"
   ]
  },
  {
   "cell_type": "code",
   "execution_count": null,
   "metadata": {},
   "outputs": [],
   "source": [
    "texto_quijote.leer_lineas()"
   ]
  },
  {
   "cell_type": "code",
   "execution_count": null,
   "metadata": {},
   "outputs": [],
   "source": [
    "texto_quijote.Quijote_sin_intro()"
   ]
  },
  {
   "cell_type": "code",
   "execution_count": null,
   "metadata": {},
   "outputs": [],
   "source": [
    "texto_quijote.contar_palabra(\"Don Quijote\")"
   ]
  },
  {
   "cell_type": "code",
   "execution_count": null,
   "metadata": {},
   "outputs": [],
   "source": [
    "help(EstudioPalabras)"
   ]
  }
 ],
 "metadata": {
  "kernelspec": {
   "display_name": "Python 3",
   "language": "python",
   "name": "python3"
  },
  "language_info": {
   "codemirror_mode": {
    "name": "ipython",
    "version": 3
   },
   "file_extension": ".py",
   "mimetype": "text/x-python",
   "name": "python",
   "nbconvert_exporter": "python",
   "pygments_lexer": "ipython3",
   "version": "3.9.7"
  },
  "orig_nbformat": 4,
  "vscode": {
   "interpreter": {
    "hash": "31f2aee4e71d21fbe5cf8b01ff0e069b9275f58929596ceb00d14d90e3e16cd6"
   }
  }
 },
 "nbformat": 4,
 "nbformat_minor": 2
}
